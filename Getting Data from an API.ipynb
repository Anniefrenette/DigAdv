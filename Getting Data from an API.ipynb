{
 "cells": [
  {
   "cell_type": "markdown",
   "metadata": {},
   "source": [
    "# Getting Data from an API \n",
    "## using census reporter to track where are target demos are \n"
   ]
  },
  {
   "cell_type": "code",
   "execution_count": 2,
   "metadata": {},
   "outputs": [],
   "source": [
    "##must download data from this link https://www.dropbox.com/s/u4pzjsj23uqv3vj/msas.csv?dl=0"
   ]
  },
  {
   "cell_type": "code",
   "execution_count": 4,
   "metadata": {},
   "outputs": [
    {
     "name": "stdout",
     "output_type": "stream",
     "text": [
      "THis assignment required gathering data from an API in order to determine which geographic areas a target audience could be found in\n"
     ]
    },
    {
     "name": "stderr",
     "output_type": "stream",
     "text": [
      "C:\\Users\\annie\\Anaconda3\\lib\\site-packages\\ipykernel_launcher.py:32: SettingWithCopyWarning: \n",
      "A value is trying to be set on a copy of a slice from a DataFrame\n",
      "\n",
      "See the caveats in the documentation: http://pandas.pydata.org/pandas-docs/stable/indexing.html#indexing-view-versus-copy\n",
      "C:\\Users\\annie\\Anaconda3\\lib\\site-packages\\ipykernel_launcher.py:37: SettingWithCopyWarning: \n",
      "A value is trying to be set on a copy of a slice from a DataFrame\n",
      "\n",
      "See the caveats in the documentation: http://pandas.pydata.org/pandas-docs/stable/indexing.html#indexing-view-versus-copy\n",
      "C:\\Users\\annie\\Anaconda3\\lib\\site-packages\\ipykernel_launcher.py:42: SettingWithCopyWarning: \n",
      "A value is trying to be set on a copy of a slice from a DataFrame\n",
      "\n",
      "See the caveats in the documentation: http://pandas.pydata.org/pandas-docs/stable/indexing.html#indexing-view-versus-copy\n",
      "C:\\Users\\annie\\Anaconda3\\lib\\site-packages\\ipykernel_launcher.py:47: SettingWithCopyWarning: \n",
      "A value is trying to be set on a copy of a slice from a DataFrame\n",
      "\n",
      "See the caveats in the documentation: http://pandas.pydata.org/pandas-docs/stable/indexing.html#indexing-view-versus-copy\n",
      "C:\\Users\\annie\\Anaconda3\\lib\\site-packages\\ipykernel_launcher.py:52: SettingWithCopyWarning: \n",
      "A value is trying to be set on a copy of a slice from a DataFrame\n",
      "\n",
      "See the caveats in the documentation: http://pandas.pydata.org/pandas-docs/stable/indexing.html#indexing-view-versus-copy\n",
      "C:\\Users\\annie\\Anaconda3\\lib\\site-packages\\ipykernel_launcher.py:57: SettingWithCopyWarning: \n",
      "A value is trying to be set on a copy of a slice from a DataFrame\n",
      "\n",
      "See the caveats in the documentation: http://pandas.pydata.org/pandas-docs/stable/indexing.html#indexing-view-versus-copy\n"
     ]
    },
    {
     "name": "stdout",
     "output_type": "stream",
     "text": [
      "in order to get the City with the Highest Number of people in the income range\n",
      "we manaully looked through data frames & tables to get New York City\n"
     ]
    },
    {
     "name": "stderr",
     "output_type": "stream",
     "text": [
      "C:\\Users\\annie\\Anaconda3\\lib\\site-packages\\ipykernel_launcher.py:67: SettingWithCopyWarning: \n",
      "A value is trying to be set on a copy of a slice from a DataFrame\n",
      "\n",
      "See the caveats in the documentation: http://pandas.pydata.org/pandas-docs/stable/indexing.html#indexing-view-versus-copy\n",
      "C:\\Users\\annie\\Anaconda3\\lib\\site-packages\\ipykernel_launcher.py:72: SettingWithCopyWarning: \n",
      "A value is trying to be set on a copy of a slice from a DataFrame\n",
      "\n",
      "See the caveats in the documentation: http://pandas.pydata.org/pandas-docs/stable/indexing.html#indexing-view-versus-copy\n"
     ]
    },
    {
     "name": "stdout",
     "output_type": "stream",
     "text": [
      "in order to get the city or area with the Highest Number of People aged\n",
      "18-34 we manually looked through data tables referencing GEOID and index position\n",
      "In order to the get the city wiht the Highest Number of people who Identify\n",
      "Aas Hispanic,we manually looked through data frames referencing GEOID and index\n"
     ]
    },
    {
     "name": "stderr",
     "output_type": "stream",
     "text": [
      "C:\\Users\\annie\\Anaconda3\\lib\\site-packages\\ipykernel_launcher.py:81: SettingWithCopyWarning: \n",
      "A value is trying to be set on a copy of a slice from a DataFrame\n",
      "\n",
      "See the caveats in the documentation: http://pandas.pydata.org/pandas-docs/stable/indexing.html#indexing-view-versus-copy\n"
     ]
    }
   ],
   "source": [
    "# -*- coding: utf-8 -*-\n",
    "\"\"\"\n",
    "Created on Tue Oct  9 14:53:41 2018\n",
    "\n",
    "@author: annie\n",
    "\"\"\"\n",
    "print('THis assignment required gathering data from an API in order to determine which geographic areas a target audience could be found in')\n",
    "import pandas as pd\n",
    "import requests\n",
    "import time\n",
    "\n",
    "alldata = pd.read_csv('msas.csv')\n",
    "tableids = ['B01001', 'B03002', 'B19001']\n",
    "tableidstring = ','.join(tableids)\n",
    "\n",
    "geoid = alldata['CBSA']\n",
    "\n",
    "\n",
    "recdata = {}\n",
    "\n",
    "#USE API TO GET THE DATA\n",
    "for row in range(len(geoid)):\n",
    "    requesturl = 'http://api.censusreporter.org/1.0/data/show/latest?table_ids=%s&geo_ids=31000US%s' % (tableidstring, geoid[row])\n",
    "    recdata[row] = requests.get(requesturl).json()\n",
    "    time.sleep(1)\n",
    "\n",
    "#FIND PEOPLE AGED 18-34 per Parameter 1 by GEOID\n",
    "alldata = pd.read_csv('msas.csv')\n",
    "geoid = alldata['CBSA']\n",
    "age1 = geoid\n",
    "for row in range(len(recdata)):\n",
    "    age1[row] = recdata[row]['data']['31000US' + str(int(geoid[row]))]['B01001']['estimate']['B01001031']\n",
    "alldata = pd.read_csv('msas.csv')\n",
    "geoid = alldata['CBSA']\n",
    "age2 = geoid\n",
    "for row in range(len(recdata)):\n",
    "    age2[row] = recdata[row]['data']['31000US' + str(int(geoid[row]))]['B01001']['estimate']['B01001032']\n",
    "alldata = pd.read_csv('msas.csv')\n",
    "geoid = alldata['CBSA']\n",
    "age3 = geoid\n",
    "for row in range(len(recdata)):\n",
    "    age3[row] = recdata[row]['data']['31000US' + str(int(geoid[row]))]['B01001']['estimate']['B01001033']\n",
    "alldata = pd.read_csv('msas.csv')\n",
    "geoid = alldata['CBSA']\n",
    "age4 = geoid\n",
    "for row in range(len(recdata)):\n",
    "    age4[row] = recdata[row]['data']['31000US' + str(int(geoid[row]))]['B01001']['estimate']['B01001034']\n",
    "alldata = pd.read_csv('msas.csv')\n",
    "geoid = alldata['CBSA']\n",
    "age5 = geoid\n",
    "for row in range(len(recdata)):\n",
    "    age5[row] = recdata[row]['data']['31000US' + str(int(geoid[row]))]['B01001']['estimate']['B01001035']\n",
    "alldata = pd.read_csv('msas.csv')\n",
    "geoid = alldata['CBSA']\n",
    "age6 = geoid\n",
    "for row in range(len(recdata)):\n",
    "    age6[row] = recdata[row]['data']['31000US' + str(int(geoid[row]))]['B01001']['estimate']['B01001036']\n",
    "age = age1 + age2 + age3 + age4 + age5 + age6\n",
    "print('in order to get the City with the Highest Number of people in the income range')\n",
    "print('we manaully looked through data frames & tables to get New York City')\n",
    "\n",
    "# Find number of people in income range of 50-74,999K by GEOID\n",
    "alldata = pd.read_csv('msas.csv')\n",
    "geoid = alldata['CBSA']\n",
    "income1 = geoid\n",
    "for row in range(len(recdata)):\n",
    "    income1[row] = recdata[row]['data']['31000US' + str(int(geoid[row]))]['B19001']['estimate']['B19001011']\n",
    "alldata = pd.read_csv('msas.csv')\n",
    "geoid = alldata['CBSA']\n",
    "income2 = geoid\n",
    "for row in range(len(recdata)):\n",
    "    income2[row] = recdata[row]['data']['31000US' + str(int(geoid[row]))]['B19001']['estimate']['B19001012']\n",
    "income = income1 + income2\n",
    "print('in order to get the city or area with the Highest Number of People aged')\n",
    "print ('18-34 we manually looked through data tables referencing GEOID and index position')\n",
    "# Find Number of people who identify as Hispanc By GEOID \n",
    "alldata = pd.read_csv('msas.csv')\n",
    "geoid = alldata['CBSA']\n",
    "hisp = geoid\n",
    "for row in range(len(recdata)):\n",
    "    hisp[row] = recdata[row]['data']['31000US' + str(int(geoid[row]))]['B03002']['estimate']['B03002012']\n",
    "alldata = pd.read_csv('msas.csv')\n",
    "geoid = alldata['CBSA']\n",
    "print('In order to the get the city wiht the Highest Number of people who Identify')\n",
    "print ('Aas Hispanic,we manually looked through data frames referencing GEOID and index')\n",
    "\n",
    "##QUESTION 4\n",
    "perincome = income\n",
    "perage = age\n",
    "perhisp = hisp\n",
    "perincome = perincome / max(income)\n",
    "perage = perage / max(age)\n",
    "perhisp = perhisp / max(hisp)\n",
    "totalper = (perincome + perage + perhisp) / 3\n",
    "\n",
    "\n",
    "\n",
    "\n",
    "\n"
   ]
  }
 ],
 "metadata": {
  "kernelspec": {
   "display_name": "Python 3",
   "language": "python",
   "name": "python3"
  },
  "language_info": {
   "codemirror_mode": {
    "name": "ipython",
    "version": 3
   },
   "file_extension": ".py",
   "mimetype": "text/x-python",
   "name": "python",
   "nbconvert_exporter": "python",
   "pygments_lexer": "ipython3",
   "version": "3.6.5"
  }
 },
 "nbformat": 4,
 "nbformat_minor": 2
}
