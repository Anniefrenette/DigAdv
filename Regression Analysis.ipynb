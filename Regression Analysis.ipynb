{
 "cells": [
  {
   "cell_type": "markdown",
   "metadata": {},
   "source": [
    "# Regression Analysis \n",
    "## analyzing regression to determine which factors produce the highest amount of ad clicks\n",
    "### based on data from TravelPony Facebook adds"
   ]
  },
  {
   "cell_type": "code",
   "execution_count": null,
   "metadata": {},
   "outputs": [],
   "source": [
    "## must download data from this link https://www.dropbox.com/s/4w7umic64h28j1z/nativeads.xls?dl=0"
   ]
  },
  {
   "cell_type": "code",
   "execution_count": 1,
   "metadata": {},
   "outputs": [
    {
     "name": "stdout",
     "output_type": "stream",
     "text": [
      "THe least Expensive Day is Saturday (Day 6) \n",
      "THe Most Expensive Day or the day that works worst is Friday (Day 5)\n",
      "[[1.         0.70312381]\n",
      " [0.70312381 1.        ]]\n",
      "[[1.         0.13020087]\n",
      " [0.13020087 1.        ]]\n",
      "[[1.         0.88299318]\n",
      " [0.88299318 1.        ]]\n",
      "[[1.         0.75761193]\n",
      " [0.75761193 1.        ]]\n",
      "                            OLS Regression Results                            \n",
      "==============================================================================\n",
      "Dep. Variable:          Unique Clicks   R-squared:                       0.557\n",
      "Model:                            OLS   Adj. R-squared:                  0.556\n",
      "Method:                 Least Squares   F-statistic:                     2325.\n",
      "Date:                Thu, 18 Oct 2018   Prob (F-statistic):               0.00\n",
      "Time:                        22:49:44   Log-Likelihood:                -15973.\n",
      "No. Observations:                3705   AIC:                         3.195e+04\n",
      "Df Residuals:                    3703   BIC:                         3.196e+04\n",
      "Df Model:                           2                                         \n",
      "Covariance Type:            nonrobust                                         \n",
      "==============================================================================\n",
      "                 coef    std err          t      P>|t|      [0.025      0.975]\n",
      "------------------------------------------------------------------------------\n",
      "Reach          0.0019   3.12e-05     62.490      0.000       0.002       0.002\n",
      "Frequency      3.6139      0.298     12.109      0.000       3.029       4.199\n",
      "==============================================================================\n",
      "Omnibus:                     5107.616   Durbin-Watson:                   0.803\n",
      "Prob(Omnibus):                  0.000   Jarque-Bera (JB):          5128392.747\n",
      "Skew:                           7.331   Prob(JB):                         0.00\n",
      "Kurtosis:                     184.674   Cond. No.                     9.84e+03\n",
      "==============================================================================\n",
      "\n",
      "Warnings:\n",
      "[1] Standard Errors assume that the covariance matrix of the errors is correctly specified.\n",
      "[2] The condition number is large, 9.84e+03. This might indicate that there are\n",
      "strong multicollinearity or other numerical problems.\n",
      "Frequency more strongly predicts unique clicks as the coefficient is much higher than that of the reach\n"
     ]
    }
   ],
   "source": [
    "# -*- coding: utf-8 -*-\n",
    "\"\"\"\n",
    "Created on Wed Sep 19 10:15:19 2018\n",
    "\n",
    "@author: annie\n",
    "\"\"\"\n",
    "##PART 1 import dataset\n",
    "import pandas as pd\n",
    "tpony=pd.read_csv('travelponyfacebook.csv')\n",
    "tpony['costperimpression']=tpony['Amount Spent (USD)']/tpony['Impressions']\n",
    "import arrow \n",
    "import numpy as np\n",
    "\n",
    "dayweek = []\n",
    "\n",
    "for row in range(len(tpony)):\n",
    "    date = arrow.get(tpony['Start Date'][row], 'M/D/YY')\n",
    "    dayweek.append(date.isoweekday())\n",
    "    \n",
    "tpony['Day'] = dayweek\n",
    "\n",
    "answer = tpony.groupby('Day')\n",
    "answer.aggregate(np.mean)\n",
    "print('THe least Expensive Day is Saturday (Day 6) ')\n",
    "print ('THe Most Expensive Day or the day that works worst is Friday (Day 5)')\n",
    "\n",
    "##PART 2\n",
    "amtspentreach=np.corrcoef(tpony['Amount Spent (USD)'],tpony['Reach'])\n",
    "print(amtspentreach)\n",
    "\n",
    "amtspentfreq= np.corrcoef(tpony['Amount Spent (USD)'],tpony['Frequency'])\n",
    "print(amtspentfreq)\n",
    "\n",
    "amtspentfreq=np.corrcoef(tpony['Amount Spent (USD)'],tpony['Unique Clicks'])\n",
    "print(amtspentfreq)\n",
    "\n",
    "amtspentlikes=np.corrcoef(tpony['Amount Spent (USD)'],tpony['Page Likes'])\n",
    "print(amtspentlikes)\n",
    "\n",
    "\n",
    "import statsmodels.api as sm\n",
    "\n",
    "y=tpony['Unique Clicks']\n",
    "x=tpony [['Reach','Frequency']]\n",
    "\n",
    "model=sm.OLS(y,x). fit()\n",
    "predictions=model.predict(x)\n",
    "print(model.summary())\n",
    "\n",
    "print ('Frequency more strongly predicts unique clicks as the coefficient is much higher than that of the reach')\n",
    "\n",
    "\n",
    "\n"
   ]
  }
 ],
 "metadata": {
  "kernelspec": {
   "display_name": "Python 3",
   "language": "python",
   "name": "python3"
  },
  "language_info": {
   "codemirror_mode": {
    "name": "ipython",
    "version": 3
   },
   "file_extension": ".py",
   "mimetype": "text/x-python",
   "name": "python",
   "nbconvert_exporter": "python",
   "pygments_lexer": "ipython3",
   "version": "3.6.5"
  }
 },
 "nbformat": 4,
 "nbformat_minor": 2
}
