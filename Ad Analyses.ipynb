{
 "cells": [
  {
   "cell_type": "markdown",
   "metadata": {},
   "source": [
    "# Basic Ad Analyses\n",
    "### loading data into a pandas dataframe and expecting elements"
   ]
  },
  {
   "cell_type": "code",
   "execution_count": 2,
   "metadata": {},
   "outputs": [],
   "source": [
    "##must run this data before executing code https://www.dropbox.com/s/5oims4fko6uo5px/finalmaster-ratios.csv?dl=0"
   ]
  },
  {
   "cell_type": "code",
   "execution_count": 3,
   "metadata": {},
   "outputs": [
    {
     "name": "stderr",
     "output_type": "stream",
     "text": [
      "C:\\Users\\annie\\Anaconda3\\lib\\site-packages\\matplotlib\\axes\\_axes.py:6462: UserWarning: The 'normed' kwarg is deprecated, and has been replaced by the 'density' kwarg.\n",
      "  warnings.warn(\"The 'normed' kwarg is deprecated, and has been \"\n"
     ]
    },
    {
     "name": "stdout",
     "output_type": "stream",
     "text": [
      "AxesSubplot(0.125,0.11;0.775x0.77)\n",
      "                            OLS Regression Results                            \n",
      "==============================================================================\n",
      "Dep. Variable:               AMTSPENT   R-squared:                       0.927\n",
      "Model:                            OLS   Adj. R-squared:                  0.926\n",
      "Method:                 Least Squares   F-statistic:                     1743.\n",
      "Date:                Thu, 18 Oct 2018   Prob (F-statistic):               0.00\n",
      "Time:                        23:04:20   Log-Likelihood:                -6591.5\n",
      "No. Observations:                1802   AIC:                         1.321e+04\n",
      "Df Residuals:                    1788   BIC:                         1.329e+04\n",
      "Df Model:                          13                                         \n",
      "Covariance Type:            nonrobust                                         \n",
      "===================================================================================\n",
      "                      coef    std err          t      P>|t|      [0.025      0.975]\n",
      "-----------------------------------------------------------------------------------\n",
      "const              -8.2165      1.531     -5.366      0.000     -11.220      -5.213\n",
      "Campaign Code       0.0135      0.002      5.979      0.000       0.009       0.018\n",
      "Reach               0.0036      0.000     23.278      0.000       0.003       0.004\n",
      "Frequency           4.4988      1.438      3.128      0.002       1.678       7.320\n",
      "Impressions        -0.0013   6.05e-05    -21.458      0.000      -0.001      -0.001\n",
      "Clicks             -0.1742      0.111     -1.569      0.117      -0.392       0.044\n",
      "Unique Clicks       0.3073      0.126      2.444      0.015       0.061       0.554\n",
      "Page Likes         23.0417      9.444      2.440      0.015       4.520      41.564\n",
      "Page Engagement   -19.7454      9.440     -2.092      0.037     -38.261      -1.230\n",
      "Post Engagement    16.8084      7.868      2.136      0.033       1.378      32.239\n",
      "Post Likes          2.3714      1.578      1.502      0.133      -0.724       5.467\n",
      "Post Comments       3.4253      1.641      2.087      0.037       0.207       6.644\n",
      "Post Shares         4.4798      1.602      2.797      0.005       1.339       7.621\n",
      "Photo Views         3.1556      1.577      2.002      0.045       0.064       6.248\n",
      "Website Clicks      3.3764      1.577      2.142      0.032       0.284       6.468\n",
      "==============================================================================\n",
      "Omnibus:                      878.966   Durbin-Watson:                   1.873\n",
      "Prob(Omnibus):                  0.000   Jarque-Bera (JB):            26666.114\n",
      "Skew:                           1.680   Prob(JB):                         0.00\n",
      "Kurtosis:                      21.544   Cond. No.                     1.08e+19\n",
      "==============================================================================\n",
      "\n",
      "Warnings:\n",
      "[1] Standard Errors assume that the covariance matrix of the errors is correctly specified.\n",
      "[2] The smallest eigenvalue is 1.64e-26. This might indicate that there are\n",
      "strong multicollinearity problems or that the design matrix is singular.\n",
      "three predictors\n",
      "coef\n",
      "#1.) Page Likes         23.0417 \n",
      "#2.)Post Engagement    16.8084 \n",
      "#3.)Frequency           4.4988 \n"
     ]
    }
   ],
   "source": [
    "# -*- coding: utf-8 -*-\n",
    "\"\"\"\n",
    "Created on Mon Sep 24 10:12:45 2018\n",
    "\n",
    "@author: annie\n",
    "\"\"\"\n",
    "#--------- SET UP THE DATA------------\n",
    "import pandas as pd\n",
    "import arrow\n",
    "import numpy as np\n",
    "import seaborn as sns\n",
    "tpony=pd.read_csv('travelponyfacebook.csv')\n",
    "tpony['costperimpression']=tpony['Amount Spent (USD)']/tpony['Impressions']\n",
    "#--------QUESTION 1-------------------------------\n",
    "##rename the column to make it easier to work with\n",
    "tpony['AMTSPENT']=tpony['Amount Spent (USD)']\n",
    "#use logical indexing to create a new dataframe where the AMT SPent does not =0\n",
    "tpony=tpony[tpony['AMTSPENT']!=0]\n",
    "tpony['AMTSPENT'].describe() ##make sure there are no zeros, the min should be>0\n",
    "#create the histogram\n",
    "sns.set_style('darkgrid')\n",
    "print(sns.distplot(tpony['AMTSPENT']))\n",
    "#----------QUESTION 2-------------------------------------\n",
    "import statsmodels.api as sm\n",
    "#create categorical variable of 'Campaign Name'\n",
    "tpony['Campaign Name']=tpony['Campaign Name'].astype('category')\n",
    "tpony['Campaign Code']=tpony['Campaign Name'].cat.codes\n",
    "\n",
    "##run regression\n",
    "X=tpony[['Campaign Code', 'Reach','Frequency','Impressions', 'Clicks','Unique Clicks','Page Likes'\n",
    "         ,'Page Engagement','Post Engagement','Post Likes', 'Post Comments'\n",
    "         ,'Post Shares','Photo Views','Website Clicks']]\n",
    "Y=tpony['AMTSPENT']\n",
    "\n",
    "X=sm.add_constant(X)\n",
    "\n",
    "X.shape\n",
    "#summary of regression \n",
    "linreg=sm.OLS(Y,X).fit()\n",
    "print(linreg.summary())\n",
    "\n",
    "#--------Question 3-----------------------------------\n",
    "print ('three predictors')\n",
    "print(                        'coef')\n",
    "print('#1.) Page Likes         23.0417 ')\n",
    "print ('#2.)Post Engagement    16.8084 ')\n",
    "print('#3.)Frequency           4.4988 ')\n",
    "      \n",
    "\n"
   ]
  }
 ],
 "metadata": {
  "kernelspec": {
   "display_name": "Python 3",
   "language": "python",
   "name": "python3"
  },
  "language_info": {
   "codemirror_mode": {
    "name": "ipython",
    "version": 3
   },
   "file_extension": ".py",
   "mimetype": "text/x-python",
   "name": "python",
   "nbconvert_exporter": "python",
   "pygments_lexer": "ipython3",
   "version": "3.6.5"
  }
 },
 "nbformat": 4,
 "nbformat_minor": 2
}
